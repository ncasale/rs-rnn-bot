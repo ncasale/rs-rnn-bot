{
 "cells": [
  {
   "cell_type": "code",
   "execution_count": 30,
   "metadata": {
    "collapsed": true
   },
   "outputs": [],
   "source": [
    "import urllib\n",
    "import requests\n",
    "from pandas.io.json import json_normalize\n",
    "import json\n",
    "import pandas as pd\n",
    "import datetime\n",
    "import time\n",
    "import math\n",
    "import numpy as np"
   ]
  },
  {
   "cell_type": "code",
   "execution_count": 2,
   "metadata": {
    "collapsed": true
   },
   "outputs": [],
   "source": [
    "url = 'https://rsbuddy.com/exchange/summary.json'\n",
    "urljson = urllib.request.urlopen(url)\n",
    "jsondata = json.loads(urljson.read().decode())"
   ]
  },
  {
   "cell_type": "code",
   "execution_count": 4,
   "metadata": {},
   "outputs": [],
   "source": [
    "#Get a list of all items\n",
    "df = pd.read_json(path_or_buf='https://rsbuddy.com/exchange/summary.json',orient='index', convert_axes=True)\n",
    "df = df[['id','name','buy_average','buy_quantity','sell_average','sell_quantity','overall_average','overall_quantity']]\n",
    "data = df.sort_values(by=['id']).reset_index()\n",
    "data = data.drop(labels='index',axis=1)"
   ]
  },
  {
   "cell_type": "code",
   "execution_count": 5,
   "metadata": {
    "collapsed": true
   },
   "outputs": [],
   "source": [
    "#Run this to populate a csv: itemKey\n",
    "itemKey = data[['id', 'name']]\n",
    "itemKey.to_csv(path_or_buf='./itemKey.csv', columns=('id','name'), index=False)"
   ]
  },
  {
   "cell_type": "code",
   "execution_count": 7,
   "metadata": {},
   "outputs": [
    {
     "data": {
      "text/html": [
       "<div>\n",
       "<style>\n",
       "    .dataframe thead tr:only-child th {\n",
       "        text-align: right;\n",
       "    }\n",
       "\n",
       "    .dataframe thead th {\n",
       "        text-align: left;\n",
       "    }\n",
       "\n",
       "    .dataframe tbody tr th {\n",
       "        vertical-align: top;\n",
       "    }\n",
       "</style>\n",
       "<table border=\"1\" class=\"dataframe\">\n",
       "  <thead>\n",
       "    <tr style=\"text-align: right;\">\n",
       "      <th></th>\n",
       "      <th>id</th>\n",
       "      <th>name</th>\n",
       "    </tr>\n",
       "  </thead>\n",
       "  <tbody>\n",
       "    <tr>\n",
       "      <th>3</th>\n",
       "      <td>10</td>\n",
       "      <td>Cannon barrels</td>\n",
       "    </tr>\n",
       "    <tr>\n",
       "      <th>4</th>\n",
       "      <td>12</td>\n",
       "      <td>Cannon furnace</td>\n",
       "    </tr>\n",
       "    <tr>\n",
       "      <th>5</th>\n",
       "      <td>28</td>\n",
       "      <td>Insect repellent</td>\n",
       "    </tr>\n",
       "  </tbody>\n",
       "</table>\n",
       "</div>"
      ],
      "text/plain": [
       "   id              name\n",
       "3  10    Cannon barrels\n",
       "4  12    Cannon furnace\n",
       "5  28  Insect repellent"
      ]
     },
     "execution_count": 7,
     "metadata": {},
     "output_type": "execute_result"
    }
   ],
   "source": [
    "#Create test set of specified range number of items\n",
    "data = pd.read_csv('./itemKey.csv', skiprows=[])\n",
    "startNum = 0\n",
    "numItems = 3\n",
    "inputdata = data[startNum:startNum+numItems]\n",
    "inputdata"
   ]
  },
  {
   "cell_type": "code",
   "execution_count": 10,
   "metadata": {},
   "outputs": [
    {
     "name": "stdout",
     "output_type": "stream",
     "text": [
      "Query List:\n",
      "      id              name\n",
      "0  11802  Armadyl godsword\n",
      "1    554         Fire rune\n",
      "2   1761         Soft clay\n"
     ]
    }
   ],
   "source": [
    "#Use this to pull a specific items by name\n",
    "names = ['Armadyl godsword','Fire rune', 'Soft clay']\n",
    "\n",
    "#read the itemKey csv and parse the key for associated item ids\n",
    "data = pd.read_csv('./itemKey.csv', skiprows=[])\n",
    "inputdata = pd.DataFrame()\n",
    "for name in names:\n",
    "    inputdata = inputdata.append(data.loc[data['name'] == name])\n",
    "inputdata = inputdata.reset_index().drop(labels='index',axis=1)\n",
    "\n",
    "print(\"Query List:\")\n",
    "print(inputdata)"
   ]
  },
  {
   "cell_type": "code",
   "execution_count": 12,
   "metadata": {
    "scrolled": true
   },
   "outputs": [
    {
     "name": "stdout",
     "output_type": "stream",
     "text": [
      "Item Id - 11802: Armadyl godsword\n",
      "Got fucked. Trying again. :)\n",
      "Got fucked. Trying again. :)\n",
      "It worked! On to the next one.\n",
      "Item Id - 554: Fire rune\n",
      "Got fucked. Trying again. :)\n",
      "Got fucked. Trying again. :)\n",
      "Got fucked. Trying again. :)\n",
      "It worked! On to the next one.\n",
      "Item Id - 1761: Soft clay\n",
      "Got fucked. Trying again. :)\n",
      "It worked! That was the last item!\n"
     ]
    }
   ],
   "source": [
    "i = 0\n",
    "firtIteration = True\n",
    "urlquery = pd.DataFrame(columns=['id', 'name', 'data'])\n",
    "#Iterate through all items, grab data from api and append to urlquery dataframe\n",
    "while(i<inputdata['id'].count()):\n",
    "    key = inputdata.iloc[i]['id']\n",
    "    name = inputdata.iloc[i]['name']\n",
    "    if (firtIteration == True):\n",
    "        print(\"Item Id - \" + str(key) + \": \" + name)\n",
    "    #Attempt to get data from API, retry if HTTP error\n",
    "    try:\n",
    "        url = f'https://api.rsbuddy.com/grandExchange?a=graph&g=240&start=1474615279000&i={key}'\n",
    "        tempDataFrame = pd.DataFrame()\n",
    "        tempDataFrame = pd.read_json(path_or_buf=url,orient='records', convert_axes=False)\n",
    "        urlquery = urlquery.append({'id':key, 'name': name, 'data':tempDataFrame}, ignore_index=True)\n",
    "        i+=1\n",
    "        #check if there are more items to run. If no more items, return message indicating the process is done\n",
    "        if (i == inputdata['id'].count()):\n",
    "            print(\"It worked! That was the last item!\")\n",
    "        else:\n",
    "            print(\"It worked! On to the next one.\")\n",
    "        firtIteration = True\n",
    "    except:\n",
    "        print(\"Got fucked. Trying again. :)\")\n",
    "        time.sleep(1)\n",
    "        firtIteration = False\n",
    "#Reformat urlquery columns, convert timestamp from miliseconds to seconds, convert timestamp to date, and sort by date\n",
    "for index, row in urlquery.iterrows():\n",
    "    row['data'] = row['data'][['ts','buyingPrice','buyingCompleted','sellingPrice','sellingCompleted','overallPrice','overallCompleted']]\n",
    "    row['data'] = row['data'].sort_values(by=['ts'],ascending=1).reset_index()\n",
    "    count = 0 \n",
    "    for ind, r in row['data'].iterrows():\n",
    "        r['ts'] = r['ts']/1000\n",
    "        row['data'].loc[ind, 'ts'] = int(r['ts'])\n",
    "        row['data'].loc[ind, 'date'] = datetime.datetime.fromtimestamp(r['ts']).isoformat()\n",
    "    row['data'] = row['data'].drop(labels='index',axis=1)"
   ]
  },
  {
   "cell_type": "code",
   "execution_count": 13,
   "metadata": {},
   "outputs": [
    {
     "name": "stdout",
     "output_type": "stream",
     "text": [
      "Item ID: 11802\n",
      "The shape of the Armadyl godsword input array is: (180, 5)\n",
      "Record completed at test_item position [0]\n",
      "Item ID: 554\n",
      "The shape of the Fire rune input array is: (180, 5)\n",
      "Record completed at test_item position [1]\n",
      "Item ID: 1761\n",
      "The shape of the Soft clay input array is: (180, 5)\n",
      "Record completed at test_item position [2]\n"
     ]
    }
   ],
   "source": [
    "test_set_size = 30 #In Days - define the number of epochs to include in the test data\n",
    "\n",
    "#create test_item object to log training and test sets\n",
    "test_item = pd.DataFrame(columns=['id', 'name', 'train_x', 'train_y', 'test_x', 'test_y', 'pred_y'])\n",
    "h = 0\n",
    "#iterate through the urlquery results to generate training sets\n",
    "while(h<urlquery['id'].count()):  \n",
    "    item_id = urlquery.iloc[h]['id'] #Define the item to be queried for\n",
    "    print(\"Item ID: \" + str(item_id))\n",
    "    #takes the item_id and generates the test data for the specified parameters as an array\n",
    "    test_set = urlquery.loc[urlquery['id'] == item_id]\n",
    "    train_x_headers = list(urlquery.iloc[0]['data'].columns.values[0:5])\n",
    "    \n",
    "    #for column key, uncomment this line below:\n",
    "    #print(train_x_headers)\n",
    "\n",
    "    #create training datasets\n",
    "    train_x = test_set.iloc[0]['data'].iloc[0:math.ceil(test_set_size*6)].values[:,0:5]\n",
    "    train_y = test_set.iloc[0]['data'].iloc[0:math.ceil(test_set_size*6)].values[:,5]\n",
    "    print (\"The shape of the \" + test_set.iloc[0]['name'] +  \" input array is: \"+ str(train_x.shape))\n",
    "\n",
    "    #create test set to estimate next 6 prices (next day of prices)\n",
    "    test_x = test_set.iloc[0]['data'].iloc[math.ceil(test_set_size*6):math.ceil(test_set_size*6)+6].values[:,0:5]\n",
    "\n",
    "    #test key to compare to Y-hat\n",
    "    test_y = test_set.iloc[0]['data'].iloc[math.ceil(test_set_size*6):math.ceil(test_set_size*6)+6].values[:,5]\n",
    "    test_item = test_item.append({'id':item_id, 'name': test_set.iloc[0]['name'], 'train_x':train_x, 'train_y':train_y, 'test_x':test_x, 'test_y': test_y}, ignore_index=True)\n",
    "    print(\"Record completed at test_item position [\" + str(h) + \"]\")\n",
    "    h += 1\n",
    "    #TODO: Get this all in a for loop to iterate over multiple entries"
   ]
  },
  {
   "cell_type": "code",
   "execution_count": 75,
   "metadata": {},
   "outputs": [
    {
     "name": "stdout",
     "output_type": "stream",
     "text": [
      "32\n"
     ]
    }
   ],
   "source": [
    "# independent variables: Buy price, buy quantity, sell price, sell quantity, time (in seconds/year)\n",
    "# dependent variable: Overall price (in percent 1-:1)\n",
    "class Node:\n",
    "    def __init__(self, incomingEdges=np.array([]), outgoingEdges=np.array([]), inputNodeValue=None, activation=None, bias=0):\n",
    "        self.incomingEdges = incomingEdges\n",
    "        self.outgoingEdges = outgoingEdges\n",
    "        self.inputNodeValue = inputNodeValue\n",
    "        self.activation = activation\n",
    "        self.bias = bias\n",
    "    \n",
    "    def calculateActivation(self):\n",
    "        #Iterate through all incoming edges and sum weights\n",
    "        self.activation = 0\n",
    "        for edge in self.incomingEdges:\n",
    "            self.activation += edge.getWeightActivationProduct()\n",
    "        #Add bias\n",
    "        self.activation += self.bias\n",
    "        #Apply activation function\n",
    "        #self.activation = np.tanh(self.activation)\n",
    "        \n",
    "    #Getters\n",
    "    def getActivation(self):\n",
    "        return self.activation\n",
    "    \n",
    "    def getInputNodeValue(self):\n",
    "        return self.inputNodeValue\n",
    "    \n",
    "    #Utility functions\n",
    "    def appendOutgoingEdge(self, edge):\n",
    "        self.outgoingEdges = np.append(self.outgoingEdges, edge)\n",
    "\n",
    "    def appendIncomingEdge(self, edge):\n",
    "        self.incomingEdges = np.append(self.incomingEdges, edge)\n",
    "\n",
    "    \n",
    "            \n",
    "\n",
    "class Edge:\n",
    "    weight = 1\n",
    "    prevNode = None\n",
    "    destNode = None\n",
    "    \n",
    "    def __init__(self, weight=1, prevNode=None, destNode=None):\n",
    "        self.weight = weight\n",
    "        self.prevNode = prevNode\n",
    "        self.destNode = destNode\n",
    "    \n",
    "    def getWeight(self):\n",
    "        return self.weight\n",
    "    \n",
    "    def getWeightActivationProduct(self):\n",
    "        #If not input node, calc activation. Otherwise, return input value\n",
    "        if(self.prevNode.getInputNodeValue() == None):\n",
    "            \n",
    "            return self.weight * self.prevNode.getActivation()\n",
    "        return self.weight * self.prevNode.getInputNodeValue()\n",
    "    \n",
    "class NeuralNetwork:\n",
    "    def __init__(self, inputNodes=np.array([]), hiddenNodes=np.array([]), outputNode=Node(), numInputNodes=5, numHiddenLayers=1, numHiddenLayerNodes=16):\n",
    "        self.inputNodes = inputNodes\n",
    "        self.hiddenNodes = hiddenNodes\n",
    "        self.outputNode = outputNode\n",
    "        self.numInputNodes = numInputNodes\n",
    "        self.numHiddenLayers = numHiddenLayers\n",
    "        self.numHiddenLayerNodes = numHiddenLayerNodes\n",
    "        \n",
    "    def generateInitialNetwork(self, inputNodeValues):\n",
    "        #Generate input nodes\n",
    "        for value in inputNodeValues:\n",
    "            #Create new input nodes\n",
    "            newNode = Node(inputNodeValue=value)\n",
    "            self.inputNodes = np.append(self.inputNodes, newNode)\n",
    "        #Generate hidden nodes\n",
    "        for x in range(0, self.numHiddenLayerNodes):\n",
    "            newNode = Node()\n",
    "            self.hiddenNodes = np.append(self.hiddenNodes, newNode)\n",
    "        #Generate output node\n",
    "        self.outputNode = Node()\n",
    "        \n",
    "        #Iterate through each input node, and attach edge to each hidden node\n",
    "        for inputNode in self.inputNodes:\n",
    "            for hiddenNode in self.hiddenNodes:\n",
    "                #Create outgoing edge with random weight\n",
    "                newEdge = Edge(weight=1, prevNode=inputNode, destNode=hiddenNode)\n",
    "                inputNode.appendOutgoingEdge(newEdge)\n",
    "                hiddenNode.appendIncomingEdge(newEdge)\n",
    "                \n",
    "        #Connect each hidden layer node to the output node\n",
    "        for hiddenNode in self.hiddenNodes:\n",
    "            edgeToOutput = Edge(weight=1, prevNode=hiddenNode, destNode=self.outputNode)\n",
    "            hiddenNode.appendOutgoingEdge(edgeToOutput)\n",
    "            self.outputNode.appendIncomingEdge(edgeToOutput)\n",
    "            \n",
    "    def calculateNodeActivations(self):\n",
    "        #Start with input nodes\n",
    "        for inputNode in self.inputNodes:\n",
    "            inputNode.calculateActivation()\n",
    "        #Get activation of hidden layer nodes\n",
    "        for hiddenNode in self.hiddenNodes:\n",
    "            hiddenNode.calculateActivation()\n",
    "        #Lastly, calculate output node activation\n",
    "        self.outputNode.calculateActivation()\n",
    " \n",
    "            \n",
    "nn = NeuralNetwork()\n",
    "nn.generateInitialNetwork([1,1])\n",
    "nn.calculateNodeActivations()\n",
    "print(nn.outputNode.getActivation())\n",
    "\n"
   ]
  },
  {
   "cell_type": "code",
   "execution_count": null,
   "metadata": {},
   "outputs": [],
   "source": []
  },
  {
   "cell_type": "code",
   "execution_count": null,
   "metadata": {},
   "outputs": [],
   "source": []
  },
  {
   "cell_type": "code",
   "execution_count": null,
   "metadata": {
    "collapsed": true
   },
   "outputs": [],
   "source": []
  }
 ],
 "metadata": {
  "kernelspec": {
   "display_name": "Python 3",
   "language": "python",
   "name": "python3"
  },
  "language_info": {
   "codemirror_mode": {
    "name": "ipython",
    "version": 3
   },
   "file_extension": ".py",
   "mimetype": "text/x-python",
   "name": "python",
   "nbconvert_exporter": "python",
   "pygments_lexer": "ipython3",
   "version": "3.6.2"
  }
 },
 "nbformat": 4,
 "nbformat_minor": 2
}
