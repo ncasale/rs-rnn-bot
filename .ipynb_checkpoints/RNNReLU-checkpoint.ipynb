{
 "cells": [
  {
   "cell_type": "code",
   "execution_count": 5,
   "metadata": {
    "collapsed": true
   },
   "outputs": [],
   "source": [
    "import urllib\n",
    "import requests\n",
    "from pandas.io.json import json_normalize\n",
    "import json\n",
    "import pandas as pd\n",
    "import datetime\n",
    "import time\n",
    "import math\n",
    "import numpy as np\n",
    "from node import Node\n",
    "from edge import Edge\n",
    "from neural_network import NeuralNetwork"
   ]
  },
  {
   "cell_type": "code",
   "execution_count": 6,
   "metadata": {
    "collapsed": true
   },
   "outputs": [],
   "source": [
    "url = 'https://rsbuddy.com/exchange/summary.json'\n",
    "urljson = urllib.request.urlopen(url)\n",
    "jsondata = json.loads(urljson.read().decode())"
   ]
  },
  {
   "cell_type": "code",
   "execution_count": 7,
   "metadata": {
    "collapsed": true
   },
   "outputs": [],
   "source": [
    "#Get a list of all items\n",
    "df = pd.read_json(path_or_buf='https://rsbuddy.com/exchange/summary.json',orient='index', convert_axes=True)\n",
    "df = df[['id','name','buy_average','buy_quantity','sell_average','sell_quantity','overall_average','overall_quantity']]\n",
    "data = df.sort_values(by=['id']).reset_index()\n",
    "data = data.drop(labels='index',axis=1)"
   ]
  },
  {
   "cell_type": "code",
   "execution_count": 8,
   "metadata": {
    "collapsed": true
   },
   "outputs": [],
   "source": [
    "#Run this to populate a csv: itemKey\n",
    "itemKey = data[['id', 'name']]\n",
    "itemKey.to_csv(path_or_buf='./itemKey.csv', columns=('id','name'), index=False)"
   ]
  },
  {
   "cell_type": "code",
   "execution_count": 9,
   "metadata": {},
   "outputs": [
    {
     "data": {
      "text/html": [
       "<div>\n",
       "<style>\n",
       "    .dataframe thead tr:only-child th {\n",
       "        text-align: right;\n",
       "    }\n",
       "\n",
       "    .dataframe thead th {\n",
       "        text-align: left;\n",
       "    }\n",
       "\n",
       "    .dataframe tbody tr th {\n",
       "        vertical-align: top;\n",
       "    }\n",
       "</style>\n",
       "<table border=\"1\" class=\"dataframe\">\n",
       "  <thead>\n",
       "    <tr style=\"text-align: right;\">\n",
       "      <th></th>\n",
       "      <th>id</th>\n",
       "      <th>name</th>\n",
       "    </tr>\n",
       "  </thead>\n",
       "  <tbody>\n",
       "    <tr>\n",
       "      <th>0</th>\n",
       "      <td>2</td>\n",
       "      <td>Cannonball</td>\n",
       "    </tr>\n",
       "    <tr>\n",
       "      <th>1</th>\n",
       "      <td>6</td>\n",
       "      <td>Cannon base</td>\n",
       "    </tr>\n",
       "    <tr>\n",
       "      <th>2</th>\n",
       "      <td>8</td>\n",
       "      <td>Cannon stand</td>\n",
       "    </tr>\n",
       "  </tbody>\n",
       "</table>\n",
       "</div>"
      ],
      "text/plain": [
       "   id          name\n",
       "0   2    Cannonball\n",
       "1   6   Cannon base\n",
       "2   8  Cannon stand"
      ]
     },
     "execution_count": 9,
     "metadata": {},
     "output_type": "execute_result"
    }
   ],
   "source": [
    "#Create test set of specified range number of items\n",
    "data = pd.read_csv('./itemKey.csv', skiprows=[])\n",
    "startNum = 0\n",
    "numItems = 3\n",
    "inputdata = data[startNum:startNum+numItems]\n",
    "inputdata"
   ]
  },
  {
   "cell_type": "code",
   "execution_count": 10,
   "metadata": {},
   "outputs": [
    {
     "name": "stdout",
     "output_type": "stream",
     "text": [
      "Query List:\n",
      "      id              name\n",
      "0  11802  Armadyl godsword\n",
      "1    554         Fire rune\n",
      "2   1761         Soft clay\n"
     ]
    }
   ],
   "source": [
    "#Use this to pull a specific items by name\n",
    "names = ['Armadyl godsword','Fire rune', 'Soft clay']\n",
    "\n",
    "#read the itemKey csv and parse the key for associated item ids\n",
    "data = pd.read_csv('./itemKey.csv', skiprows=[])\n",
    "inputdata = pd.DataFrame()\n",
    "for name in names:\n",
    "    inputdata = inputdata.append(data.loc[data['name'] == name])\n",
    "inputdata = inputdata.reset_index().drop(labels='index',axis=1)\n",
    "\n",
    "print(\"Query List:\")\n",
    "print(inputdata)"
   ]
  },
  {
   "cell_type": "code",
   "execution_count": 11,
   "metadata": {
    "scrolled": true
   },
   "outputs": [
    {
     "name": "stdout",
     "output_type": "stream",
     "text": [
      "Item Id - 11802: Armadyl godsword\n",
      "Got fucked. Trying again. :)\n",
      "It worked! On to the next one.\n",
      "Item Id - 554: Fire rune\n",
      "Got fucked. Trying again. :)\n",
      "Got fucked. Trying again. :)\n",
      "It worked! On to the next one.\n",
      "Item Id - 1761: Soft clay\n",
      "It worked! That was the last item!\n"
     ]
    }
   ],
   "source": [
    "i = 0\n",
    "firtIteration = True\n",
    "urlquery = pd.DataFrame(columns=['id', 'name', 'data'])\n",
    "#Iterate through all items, grab data from api and append to urlquery dataframe\n",
    "while(i<inputdata['id'].count()):\n",
    "    key = inputdata.iloc[i]['id']\n",
    "    name = inputdata.iloc[i]['name']\n",
    "    if (firtIteration == True):\n",
    "        print(\"Item Id - \" + str(key) + \": \" + name)\n",
    "    #Attempt to get data from API, retry if HTTP error\n",
    "    try:\n",
    "        url = f'https://api.rsbuddy.com/grandExchange?a=graph&g=240&start=1474615279000&i={key}'\n",
    "        tempDataFrame = pd.DataFrame()\n",
    "        tempDataFrame = pd.read_json(path_or_buf=url,orient='records', convert_axes=False)\n",
    "        urlquery = urlquery.append({'id':key, 'name': name, 'data':tempDataFrame}, ignore_index=True)\n",
    "        i+=1\n",
    "        #check if there are more items to run. If no more items, return message indicating the process is done\n",
    "        if (i == inputdata['id'].count()):\n",
    "            print(\"It worked! That was the last item!\")\n",
    "        else:\n",
    "            print(\"It worked! On to the next one.\")\n",
    "        firtIteration = True\n",
    "    except:\n",
    "        print(\"Got fucked. Trying again. :)\")\n",
    "        time.sleep(1)\n",
    "        firtIteration = False\n",
    "#Reformat urlquery columns, convert timestamp from miliseconds to seconds, convert timestamp to date, and sort by date\n",
    "for index, row in urlquery.iterrows():\n",
    "    row['data'] = row['data'][['ts','buyingPrice','buyingCompleted','sellingPrice','sellingCompleted','overallPrice','overallCompleted']]\n",
    "    row['data'] = row['data'].sort_values(by=['ts'],ascending=1).reset_index()\n",
    "    count = 0 \n",
    "    for ind, r in row['data'].iterrows():\n",
    "        r['ts'] = r['ts']/1000\n",
    "        row['data'].loc[ind, 'ts'] = int(r['ts'])\n",
    "        row['data'].loc[ind, 'date'] = datetime.datetime.fromtimestamp(r['ts']).isoformat()\n",
    "    row['data'] = row['data'].drop(labels='index',axis=1)"
   ]
  },
  {
   "cell_type": "code",
   "execution_count": 16,
   "metadata": {},
   "outputs": [
    {
     "name": "stdout",
     "output_type": "stream",
     "text": [
      "Item ID: 11802\n",
      "The shape of the Armadyl godsword input array is: (2160, 5)\n",
      "Record completed at test_item position [0]\n",
      "Item ID: 554\n",
      "The shape of the Fire rune input array is: (2160, 5)\n",
      "Record completed at test_item position [1]\n",
      "Item ID: 1761\n",
      "The shape of the Soft clay input array is: (2160, 5)\n",
      "Record completed at test_item position [2]\n"
     ]
    }
   ],
   "source": [
    "test_set_size = 360 #In Days - define the number of epochs to include in the test data\n",
    "\n",
    "#create test_item object to log training and test sets\n",
    "test_item = pd.DataFrame(columns=['id', 'name', 'train_x', 'train_y', 'test_x', 'test_y', 'pred_y'])\n",
    "h = 0\n",
    "#iterate through the urlquery results to generate training sets\n",
    "while(h<urlquery['id'].count()):  \n",
    "    item_id = urlquery.iloc[h]['id'] #Define the item to be queried for\n",
    "    print(\"Item ID: \" + str(item_id))\n",
    "    #takes the item_id and generates the test data for the specified parameters as an array\n",
    "    test_set = urlquery.loc[urlquery['id'] == item_id]\n",
    "    train_x_headers = list(urlquery.iloc[0]['data'].columns.values[0:5])\n",
    "    \n",
    "    #for column key, uncomment this line below:\n",
    "    #print(train_x_headers)\n",
    "\n",
    "    #create training datasets\n",
    "    train_x = test_set.iloc[0]['data'].iloc[0:math.ceil(test_set_size*6)].values[:,0:5]\n",
    "    train_y = test_set.iloc[0]['data'].iloc[0:math.ceil(test_set_size*6)].values[:,5]\n",
    "    print (\"The shape of the \" + test_set.iloc[0]['name'] +  \" input array is: \"+ str(train_x.shape))\n",
    "\n",
    "    #create test set to estimate next 6 prices (next day of prices)\n",
    "    test_x = test_set.iloc[0]['data'].iloc[math.ceil(test_set_size*6):math.ceil(test_set_size*6)+6].values[:,0:5]\n",
    "\n",
    "    #test key to compare to Y-hat\n",
    "    test_y = test_set.iloc[0]['data'].iloc[math.ceil(test_set_size*6):math.ceil(test_set_size*6)+6].values[:,5]\n",
    "    test_item = test_item.append({'id':item_id, 'name': test_set.iloc[0]['name'], 'train_x':train_x, 'train_y':train_y, 'test_x':test_x, 'test_y': test_y}, ignore_index=True)\n",
    "    print(\"Record completed at test_item position [\" + str(h) + \"]\")\n",
    "    h += 1\n",
    "    #TODO: Get this all in a for loop to iterate over multiple entries"
   ]
  },
  {
   "cell_type": "code",
   "execution_count": 5,
   "metadata": {},
   "outputs": [
    {
     "name": "stdout",
     "output_type": "stream",
     "text": [
      "48\n"
     ]
    }
   ],
   "source": [
    "#Test the creation of a neural network\n",
    "nn = NeuralNetwork()\n",
    "nn.generateInitialNetwork([1,1,1])\n",
    "nn.calculateNodeActivations()\n",
    "print(nn.outputNode.getActivation())\n",
    "\n"
   ]
  },
  {
   "cell_type": "markdown",
   "metadata": {
    "collapsed": true
   },
   "source": [
    "<font size=\"+3\"><b>Testing of network size:</b></font>"
   ]
  },
  {
   "cell_type": "code",
   "execution_count": 24,
   "metadata": {},
   "outputs": [
    {
     "ename": "ModuleNotFoundError",
     "evalue": "No module named 'keras'",
     "output_type": "error",
     "traceback": [
      "\u001b[1;31m---------------------------------------------------------------------------\u001b[0m",
      "\u001b[1;31mModuleNotFoundError\u001b[0m                       Traceback (most recent call last)",
      "\u001b[1;32m<ipython-input-24-9d694cb3eddc>\u001b[0m in \u001b[0;36m<module>\u001b[1;34m()\u001b[0m\n\u001b[1;32m----> 1\u001b[1;33m \u001b[1;32mimport\u001b[0m \u001b[0mkeras\u001b[0m\u001b[1;33m.\u001b[0m\u001b[0mbackend\u001b[0m \u001b[1;32mas\u001b[0m \u001b[0mK\u001b[0m\u001b[1;33m\u001b[0m\u001b[0m\n\u001b[0m\u001b[0;32m      2\u001b[0m \u001b[1;32mimport\u001b[0m \u001b[0msklearn\u001b[0m\u001b[1;33m\u001b[0m\u001b[0m\n\u001b[0;32m      3\u001b[0m \u001b[1;32mfrom\u001b[0m \u001b[0mkeras\u001b[0m\u001b[1;33m.\u001b[0m\u001b[0mwrappers\u001b[0m\u001b[1;33m.\u001b[0m\u001b[0mscikit_learn\u001b[0m \u001b[1;32mimport\u001b[0m \u001b[0mKerasRegressor\u001b[0m\u001b[1;33m\u001b[0m\u001b[0m\n\u001b[0;32m      4\u001b[0m \u001b[1;32mfrom\u001b[0m \u001b[0msklearn\u001b[0m\u001b[1;33m.\u001b[0m\u001b[0mmodel_selection\u001b[0m \u001b[1;32mimport\u001b[0m \u001b[0mGridSearchCV\u001b[0m\u001b[1;33m\u001b[0m\u001b[0m\n",
      "\u001b[1;31mModuleNotFoundError\u001b[0m: No module named 'keras'"
     ]
    }
   ],
   "source": [
    "import keras.backend as K\n",
    "import sklearn\n",
    "from keras.wrappers.scikit_learn import KerasRegressor\n",
    "from sklearn.model_selection import GridSearchCV"
   ]
  },
  {
   "cell_type": "code",
   "execution_count": null,
   "metadata": {
    "collapsed": true
   },
   "outputs": [],
   "source": [
    "#import keras.backend as K\n",
    "train_x = test_item.iloc[2]['train_x'] # test data. not real\n",
    " \n",
    "def create_model(layesr,activation):\n",
    "    model = Sequential()\n",
    "    for i, nodes in enumerate(layers):\n",
    "        if i==0:\n",
    "            model.add(Dense(nodes,input_dim=train_x.shape[1]))\n",
    "            model.add(Activation(activation))\n",
    "        else: \n",
    "            model.add(Dense(nodes))\n",
    "            model.add(Activation(activation))\n",
    "    model.add(Dense(1)) #Note: no activations present beyond this point\n",
    "\n",
    "    model.compile(optimizer='adadelta', loss='mse')\n",
    "    return model\n",
    "\n",
    "model = KerasRegressor(build_fn=create_model, verbose = 0)"
   ]
  },
  {
   "cell_type": "code",
   "execution_count": 15,
   "metadata": {},
   "outputs": [],
   "source": [
    "layers = [[16], [4,2], [4], [16,4]]\n",
    "activations = [tanh, relu]\n",
    "param_grid = dict(layers=layers, activation=activations, batch_size = [42, 180], epochs[6])\n",
    "grid = GridSearchCV(estimator=model, param_grid=param_grid, scoring='neg_mean_squared_error')"
   ]
  },
  {
   "cell_type": "code",
   "execution_count": 21,
   "metadata": {},
   "outputs": [
    {
     "data": {
      "text/plain": [
       "array([1505707200, 132.0, 71071.0, 129.0, 91095.0], dtype=object)"
      ]
     },
     "execution_count": 21,
     "metadata": {},
     "output_type": "execute_result"
    }
   ],
   "source": []
  },
  {
   "cell_type": "code",
   "execution_count": null,
   "metadata": {
    "collapsed": true
   },
   "outputs": [],
   "source": []
  },
  {
   "cell_type": "code",
   "execution_count": null,
   "metadata": {
    "collapsed": true
   },
   "outputs": [],
   "source": []
  },
  {
   "cell_type": "code",
   "execution_count": null,
   "metadata": {
    "collapsed": true
   },
   "outputs": [],
   "source": []
  },
  {
   "cell_type": "code",
   "execution_count": null,
   "metadata": {
    "collapsed": true
   },
   "outputs": [],
   "source": []
  }
 ],
 "metadata": {
  "kernelspec": {
   "display_name": "Python 3",
   "language": "python",
   "name": "python3"
  },
  "language_info": {
   "codemirror_mode": {
    "name": "ipython",
    "version": 3
   },
   "file_extension": ".py",
   "mimetype": "text/x-python",
   "name": "python",
   "nbconvert_exporter": "python",
   "pygments_lexer": "ipython3",
   "version": "3.6.3"
  }
 },
 "nbformat": 4,
 "nbformat_minor": 2
}
