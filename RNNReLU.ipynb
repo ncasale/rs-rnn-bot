{
 "cells": [
  {
   "cell_type": "code",
   "execution_count": null,
   "metadata": {
    "collapsed": true
   },
   "outputs": [],
   "source": [
    "import urllib\n",
    "import requests\n",
    "from pandas.io.json import json_normalize\n",
    "import json\n",
    "import pandas as pd\n",
    "import datetime\n",
    "import time"
   ]
  },
  {
   "cell_type": "code",
   "execution_count": null,
   "metadata": {},
   "outputs": [],
   "source": [
    "url = 'https://rsbuddy.com/exchange/summary.json'\n",
    "urljson = urllib.request.urlopen(url)\n",
    "jsondata = json.loads(urljson.read().decode())"
   ]
  },
  {
   "cell_type": "code",
   "execution_count": null,
   "metadata": {},
   "outputs": [],
   "source": [
    "df = pd.read_json(path_or_buf='https://rsbuddy.com/exchange/summary.json',orient='index', convert_axes=True)\n",
    "df = df[['id','name','buy_average','buy_quantity','sell_average','sell_quantity','overall_average','overall_quantity']]\n",
    "data = df.sort_values(by=['id']).reset_index()\n",
    "data = data.drop(labels='index',axis=1)"
   ]
  },
  {
   "cell_type": "code",
   "execution_count": null,
   "metadata": {},
   "outputs": [],
   "source": [
    "tdata = data[:3]\n",
    "tdata"
   ]
  },
  {
   "cell_type": "code",
   "execution_count": null,
   "metadata": {
    "scrolled": true
   },
   "outputs": [],
   "source": [
    "# THIS IS REAL DONT FUCK WITH THIS\n",
    "i = 0\n",
    "while(i<tdata['id'].count()):\n",
    "    key = tdata.iloc[i]['id']\n",
    "    print(key)\n",
    "    try:\n",
    "        url = f'https://api.rsbuddy.com/grandExchange?a=graph&g=240&start=1474615279000&i={key}'\n",
    "        urlquery = urlquery.append(pd.read_json(path_or_buf=url,orient='records', convert_axes=False))\n",
    "        i+=1\n",
    "        print(\"It worked! On to the next one.\")\n",
    "    except:\n",
    "        print(\"Got fucked. Trying again. :)\")\n",
    "        time.sleep(1)"
   ]
  },
  {
   "cell_type": "code",
   "execution_count": null,
   "metadata": {
    "scrolled": false
   },
   "outputs": [],
   "source": [
    "i = 0\n",
    "urlquery = pd.DataFrame(columns=['id', 'data'])\n",
    "print(urlquery)\n",
    "while(i<tdata['id'].count()):\n",
    "    key = tdata.iloc[i]['id']\n",
    "    print(key)\n",
    "    \n",
    "    try:\n",
    "        url = f'https://api.rsbuddy.com/grandExchange?a=graph&g=240&start=1474615279000&i={key}'\n",
    "        tempDataFrame = pd.DataFrame()\n",
    "        tempDataFrame = pd.read_json(path_or_buf=url,orient='records', convert_axes=False)\n",
    "        urlquery = urlquery.append({'id':key, 'data':tempDataFrame}, ignore_index=True)\n",
    "        #urlquery = urlquery.append(pd.read_json(path_or_buf=url,orient='records', convert_axes=False), ignore_index=True)\n",
    "        i+=1\n",
    "        print(\"It worked! On to the next one.\")\n",
    "    except:\n",
    "        print(\"Got fucked. Trying again. :)\")\n",
    "        time.sleep(1)"
   ]
  },
  {
   "cell_type": "code",
   "execution_count": null,
   "metadata": {},
   "outputs": [],
   "source": [
    "urlquery.iloc[0]['data']"
   ]
  },
  {
   "cell_type": "code",
   "execution_count": null,
   "metadata": {},
   "outputs": [],
   "source": [
    "\n"
   ]
  },
  {
   "cell_type": "code",
   "execution_count": null,
   "metadata": {},
   "outputs": [],
   "source": [
    "urlquery = urlquery[['ts','buyingPrice','buyingCompleted','sellingPrice','sellingCompleted','overallPrice','overallCompleted']]\n",
    "urlquery = urlquery.sort_values(by=['ts'],ascending=1).reset_index()\n",
    "count = 0 \n",
    "for index, row in urlquery.iterrows():\n",
    "    row['ts'] = row['ts']/1000\n",
    "    urlquery.loc[index, 'date'] = datetime.datetime.fromtimestamp(row['ts']).isoformat()\n",
    "urlquery = urlquery.drop(labels='index',axis=1)\n"
   ]
  },
  {
   "cell_type": "code",
   "execution_count": null,
   "metadata": {},
   "outputs": [],
   "source": [
    "urlquery.iloc[0]"
   ]
  },
  {
   "cell_type": "code",
   "execution_count": null,
   "metadata": {
    "collapsed": true
   },
   "outputs": [],
   "source": []
  }
 ],
 "metadata": {
  "kernelspec": {
   "display_name": "Python 3",
   "language": "python",
   "name": "python3"
  },
  "language_info": {
   "codemirror_mode": {
    "name": "ipython",
    "version": 3
   },
   "file_extension": ".py",
   "mimetype": "text/x-python",
   "name": "python",
   "nbconvert_exporter": "python",
   "pygments_lexer": "ipython3",
   "version": "3.6.2"
  }
 },
 "nbformat": 4,
 "nbformat_minor": 2
}
